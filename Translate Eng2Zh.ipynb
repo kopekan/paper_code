{
 "cells": [
  {
   "cell_type": "markdown",
   "metadata": {},
   "source": [
    "論文有提及，中文的ABSA資料過少，因此需要翻譯英文的相關資料\n",
    "\n",
    "這個程式就是翻譯的程式，是套用google translate的API\n",
    "\n",
    "需要注意的點是一次翻譯太多會出問題(到後面他就不會翻了)，所以要分批/分時翻譯"
   ]
  },
  {
   "cell_type": "code",
   "execution_count": 1,
   "metadata": {},
   "outputs": [],
   "source": [
    "#pip install googletrans==3.1.0a0\n",
    "#靠北ip被鎖了\n",
    "import googletrans\n",
    "translator = googletrans.Translator()"
   ]
  },
  {
   "cell_type": "code",
   "execution_count": 1,
   "metadata": {
    "scrolled": false
   },
   "outputs": [],
   "source": [
    "with open('./data/ABSA_Eng/Restaurant_train.txt', 'r') as file:\n",
    "    resturant_train = file.readlines()\n",
    "with open('./data/ABSA_Eng/Restaurant_test.txt', 'r') as file:\n",
    "    resturant_test = file.readlines()\n",
    "with open('./data/ABSA_Eng/Laptop_train.txt', 'r') as file:\n",
    "    laptop_train = file.readlines()  \n",
    "with open('./data/ABSA_Eng/Laptop_test.txt', 'r') as file:\n",
    "    laptop_test = file.readlines()  \n",
    "#print(translator.translate('this is a book.', src='en', dest='zh-tw').text)"
   ]
  },
  {
   "cell_type": "code",
   "execution_count": 3,
   "metadata": {},
   "outputs": [],
   "source": [
    "rest_train_sent, rest_test_sent = [], []\n",
    "laptop_train_sent, laptop_test_sent = [], []\n",
    "for i in range(len(resturant_train)):\n",
    "    if (i+1)%3==0:\n",
    "        rest_train_sent.append(int(resturant_train[i]))\n",
    "        \n",
    "for i in range(len(resturant_test)):\n",
    "    if (i+1)%3==0:\n",
    "        rest_test_sent.append(int(resturant_test[i]))\n",
    "        \n",
    "for i in range(len(laptop_train)):\n",
    "    if (i+1)%3==0:\n",
    "        laptop_train_sent.append(int(laptop_train[i]))\n",
    "        \n",
    "for i in range(len(laptop_test)):\n",
    "    if (i+1)%3==0:\n",
    "        laptop_test_sent.append(int(laptop_test[i]))"
   ]
  },
  {
   "cell_type": "code",
   "execution_count": 4,
   "metadata": {},
   "outputs": [
    {
     "name": "stdout",
     "output_type": "stream",
     "text": [
      "Counter({1: 2164, -1: 807, 0: 637}) Counter({1: 728, 0: 196, -1: 196})\n",
      "Counter({1: 994, -1: 870, 0: 464}) Counter({1: 341, 0: 169, -1: 128})\n"
     ]
    }
   ],
   "source": [
    "from collections import Counter\n",
    "print(Counter(rest_train_sent), Counter(rest_test_sent))\n",
    "print(Counter(laptop_train_sent), Counter(laptop_test_sent))"
   ]
  },
  {
   "cell_type": "code",
   "execution_count": 5,
   "metadata": {},
   "outputs": [],
   "source": [
    "rest_train_sentence, rest_test_sentence = [], []\n",
    "rest_train_target, rest_test_target = [], []\n",
    "laptop_train_sentence, laptop_test_sentence = [], []\n",
    "laptop_train_target, laptop_test_target = [], []\n",
    "for i in range(len(resturant_train)):\n",
    "    if (i)%3==0:\n",
    "        rest_train_sentence.append(resturant_train[i].replace('$T$', resturant_train[i+1][:-1])[:-1])\n",
    "        rest_train_target.append(resturant_train[i+1][:-1])\n",
    "        \n",
    "for i in range(len(resturant_test)):\n",
    "    if (i)%3==0:\n",
    "        rest_test_sentence.append(resturant_test[i].replace('$T$', resturant_test[i+1][:-1])[:-1])\n",
    "        rest_test_target.append(resturant_test[i+1][:-1])\n",
    "        \n",
    "for i in range(len(laptop_train)):\n",
    "    if (i)%3==0:\n",
    "        laptop_train_sentence.append(laptop_train[i].replace('$T$', laptop_train[i+1][:-1])[:-1])\n",
    "        laptop_train_target.append(laptop_train[i+1][:-1])\n",
    "        \n",
    "for i in range(len(laptop_test)):\n",
    "    if (i)%3==0:\n",
    "        laptop_test_sentence.append(laptop_test[i].replace('$T$', laptop_test[i+1][:-1])[:-1])\n",
    "        laptop_test_target.append(laptop_test[i+1][:-1])"
   ]
  },
  {
   "cell_type": "markdown",
   "metadata": {},
   "source": [
    "## Direct convert into .json file"
   ]
  },
  {
   "cell_type": "code",
   "execution_count": 20,
   "metadata": {},
   "outputs": [],
   "source": [
    "rest_train, rest_test, lap_train, lap_test = [], [], [], []\n",
    "sentid = {-1:'負向', 0:'中立', 1:'正向'}\n",
    "for i in range(len(rest_train_sentence)):\n",
    "    tmp_dict = {'sentence':rest_train_sentence[i], 'target':rest_train_target[i], 'sentiment':sentid[rest_train_sent[i]]}\n",
    "    rest_train.append(tmp_dict)\n",
    "\n",
    "for i in range(len(rest_test_sentence)):\n",
    "    tmp_dict = {'sentence':rest_test_sentence[i], 'target':rest_test_target[i], 'sentiment':sentid[rest_test_sent[i]]}\n",
    "    rest_test.append(tmp_dict)\n",
    "\n",
    "for i in range(len(laptop_train_sentence)):\n",
    "    tmp_dict = {'sentence':laptop_train_sentence[i], 'target':laptop_train_target[i], 'sentiment':sentid[laptop_train_sent[i]]}\n",
    "    lap_train.append(tmp_dict)\n",
    "\n",
    "for i in range(len(laptop_test_sentence)):\n",
    "    tmp_dict = {'sentence':laptop_test_sentence[i], 'target':laptop_test_target[i], 'sentiment':sentid[laptop_test_sent[i]]}\n",
    "    lap_test.append(tmp_dict)"
   ]
  },
  {
   "cell_type": "code",
   "execution_count": 23,
   "metadata": {},
   "outputs": [
    {
     "name": "stdout",
     "output_type": "stream",
     "text": [
      "restaurant train 共寫了3608個份資料\n",
      "restaurant test 共寫了1120個份資料\n",
      "laptop train 共寫了2328個份資料\n",
      "laptop test 共寫了638個份資料\n"
     ]
    }
   ],
   "source": [
    "import json\n",
    "with open('./data/ABSA_Eng/restaurant_train.json', 'w', encoding='utf8') as file:\n",
    "    count=0\n",
    "    for d in rest_train:\n",
    "        ret = json.dumps(d, ensure_ascii=False)\n",
    "        file.write(ret)\n",
    "        file.write('\\n')\n",
    "        count+=1\n",
    "    print('restaurant train 共寫了{}個份資料'.format(count))\n",
    "    \n",
    "with open('./data/ABSA_Eng/restaurant_test.json', 'w', encoding='utf8') as file:\n",
    "    count=0\n",
    "    for d in rest_test:\n",
    "        ret = json.dumps(d, ensure_ascii=False)\n",
    "        file.write(ret)\n",
    "        file.write('\\n')\n",
    "        count+=1\n",
    "    print('restaurant test 共寫了{}個份資料'.format(count))\n",
    "\n",
    "with open('./data/ABSA_Eng/laptop_train.json', 'w', encoding='utf8') as file:\n",
    "    count=0\n",
    "    for d in lap_train:\n",
    "        ret = json.dumps(d, ensure_ascii=False)\n",
    "        file.write(ret)\n",
    "        file.write('\\n')\n",
    "        count+=1\n",
    "    print('laptop train 共寫了{}個份資料'.format(count))\n",
    "\n",
    "with open('./data/ABSA_Eng/laptop_test.json', 'w', encoding='utf8') as file:\n",
    "    count=0\n",
    "    for d in lap_test:\n",
    "        ret = json.dumps(d, ensure_ascii=False)\n",
    "        file.write(ret)\n",
    "        file.write('\\n')\n",
    "        count+=1\n",
    "    print('laptop test 共寫了{}個份資料'.format(count))\n"
   ]
  },
  {
   "cell_type": "markdown",
   "metadata": {},
   "source": [
    "## Translate into Chinese(zh)"
   ]
  },
  {
   "cell_type": "code",
   "execution_count": 11,
   "metadata": {},
   "outputs": [],
   "source": [
    "import time\n",
    "starttime = time.time()\n",
    "resturant_data = []\n",
    "startendpos = '※'\n",
    "wrong = []\n",
    "for i in range(274, 277):\n",
    "    tmp = {'sentence':'', 'target':'', 'sentiment':0}    \n",
    "    tmp['sentence'] = translator.translate(resturant[i*3][:-1].replace('$T$', startendpos+resturant[i*3+1][:-1]+startendpos), src='en', dest='zh-CN').text\n",
    "    flag = False\n",
    "    for c in tmp['sentence']:\n",
    "        if c == startendpos:\n",
    "            flag = not flag\n",
    "        elif flag:\n",
    "            tmp['target']+=c\n",
    "    tmp['sentence'] = tmp['sentence'].replace(startendpos, '')\n",
    "    tmp['sentiment'] = int(resturant[i*3+2][:-1])    \n",
    "    if tmp['target'] not in tmp['sentence']:\n",
    "        wrong.append(i)\n",
    "    if i%100==0:\n",
    "        print(i, 'spend', int(time.time()-starttime))\n",
    "    resturant_data.append(tmp)"
   ]
  },
  {
   "cell_type": "markdown",
   "metadata": {},
   "source": [
    "# read translated data"
   ]
  },
  {
   "cell_type": "code",
   "execution_count": 6,
   "metadata": {},
   "outputs": [],
   "source": [
    "import json\n",
    "restaurant, laptop = [], []\n",
    "with open('./data/translate/resturant.json', 'r', encoding='utf8') as file:\n",
    "    data = file.readlines()\n",
    "for d in data:\n",
    "    restaurant.append(json.loads(d))\n",
    "with open('./data/translate/laptop.json', 'r', encoding='utf8') as file:\n",
    "    data = file.readlines()\n",
    "for d in data:\n",
    "    laptop.append(json.loads(d))"
   ]
  },
  {
   "cell_type": "code",
   "execution_count": 12,
   "metadata": {},
   "outputs": [],
   "source": [
    "sentid = {-1:'負向', 0:'中立', 1:'正向'}"
   ]
  },
  {
   "cell_type": "code",
   "execution_count": 13,
   "metadata": {},
   "outputs": [
    {
     "name": "stdout",
     "output_type": "stream",
     "text": [
      "restaurant size: 1908\n",
      "laptop size: 1220\n"
     ]
    }
   ],
   "source": [
    "#find target not in sentence\n",
    "restaurant_true = []\n",
    "laptop_true = []\n",
    "for data in restaurant:\n",
    "    if data['target'] in data['sentence']:\n",
    "        data['sentiment'] = sentid[data['sentiment']]\n",
    "        restaurant_true.append(data)\n",
    "print('restaurant size:', len(restaurant_true))\n",
    "for data in laptop:\n",
    "    if data['target'] in data['sentence']:\n",
    "        data['sentiment'] = sentid[data['sentiment']]\n",
    "        laptop_true.append(data)\n",
    "print('laptop size:', len(laptop_true))"
   ]
  },
  {
   "cell_type": "code",
   "execution_count": 15,
   "metadata": {},
   "outputs": [
    {
     "name": "stdout",
     "output_type": "stream",
     "text": [
      "restaurant 共寫了1908個份資料\n",
      "laptop 共寫了1220個份資料\n"
     ]
    }
   ],
   "source": [
    "with open('./data/translate/filt_restaurant.json', 'w', encoding='utf8') as file:\n",
    "    count=0\n",
    "    for d in restaurant_true:\n",
    "        ret = json.dumps(d, ensure_ascii=False)\n",
    "        file.write(ret)\n",
    "        file.write('\\n')\n",
    "        count+=1\n",
    "    print('restaurant 共寫了{}個份資料'.format(count))\n",
    "    \n",
    "with open('./data/translate/filt_laptop.json', 'w', encoding='utf8') as file:\n",
    "    count=0\n",
    "    for d in laptop_true:\n",
    "        ret = json.dumps(d, ensure_ascii=False)\n",
    "        file.write(ret)\n",
    "        file.write('\\n')\n",
    "        count+=1\n",
    "    print('laptop 共寫了{}個份資料'.format(count))"
   ]
  }
 ],
 "metadata": {
  "kernelspec": {
   "display_name": "Python 3",
   "language": "python",
   "name": "python3"
  },
  "language_info": {
   "codemirror_mode": {
    "name": "ipython",
    "version": 3
   },
   "file_extension": ".py",
   "mimetype": "text/x-python",
   "name": "python",
   "nbconvert_exporter": "python",
   "pygments_lexer": "ipython3",
   "version": "3.6.9"
  }
 },
 "nbformat": 4,
 "nbformat_minor": 2
}
